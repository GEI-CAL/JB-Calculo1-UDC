{
 "cells": [
  {
   "cell_type": "markdown",
   "id": "d8d14713",
   "metadata": {},
   "source": [
    "(sec_IntegracionNumerica)=\n",
    "# Integración numérica"
   ]
  },
  {
   "cell_type": "markdown",
   "id": "9116f0f8",
   "metadata": {},
   "source": [
    "## Casos en los que se utiliza\n",
    "\n",
    "Hay algunos casos en los que, en vez de buscar la primitiva de una función y aplicar la regla de Barrow, usaremos una fórmula de integración numérica. Sobre todo cuando\n",
    "\n",
    "* Sólo conocemos los valores de la función en un número finito de puntos. \n",
    "* Su primitiva no se expresa en términos de funciones elementales. Por ejemplo:\n",
    "\n",
    "$$ \n",
    "\\int \\frac{\\sin x}{x} \\,dx;\\qquad \\int e^{-x^2}\\,dx.\n",
    "$$\n",
    "* Su primitiva es muy costosa de calcular o evaluar. Por ejemplo:\n",
    "\n",
    "$$\n",
    "\\int \\frac{1}{(x-8)\\sqrt{x^2-4x-7}} \\, dx.\n",
    "$$\n",
    "\n",
    "````{prf:definition} Fórmula de integración numérica o de cuadratura\n",
    ":label: def_intnum \n",
    ":nonumber: \n",
    "Una fórmula de **integración numérica** o fórmula de **cuadratura** es una suma de la forma:\n",
    "\n",
    "$$\n",
    "\\sum_{i=0}^n\\omega_i\\,f(x_i)\\approx \\int_a^bf(x)\\,dx,\n",
    "$$\n",
    "\n",
    "donde los puntos $x_0$, $x_1$, ..., $x_n$ son los llamados nodos de cuadratura y los valores $\\omega_0$, $\\omega_1$, ..., $\\omega_n$ son los pesos asociados a cada nodo.\n",
    "````"
   ]
  },
  {
   "cell_type": "markdown",
   "id": "e9e3b1ec",
   "metadata": {},
   "source": [
    "## Fórmulas simples\n",
    "\n",
    "* **Fórmula del punto medio**:\n",
    "    <center>\n",
    "\n",
    "    $$\n",
    "    \\int_a^bf(x)\\,dx\\,\\simeq\\,(b-a)\\,f\\left(\\frac{a+b}{2}\\right) \\,. \n",
    "    $$\n",
    "    <img src=\"../../images/cap4_punto_medio.png\" width=\"300\"/>\n",
    "    </center>\n",
    "\n",
    "* **Fórmula del trapecio**:\n",
    "    <center>\n",
    "\n",
    "    $$\n",
    "    \\int_a^bf(x)\\,dx\\,\\simeq\\,\\frac{b-a}{2}\\,\\big(f(a) + f(b)\\big) \n",
    "    $$\n",
    "    <img src=\"../../images/cap4_trapecio.png\" width=\"300\"/>\n",
    "    </center>\n",
    "\n",
    "* **Fórmula de Simpson**: Está basada en una interpolación cuadrática (tres nodos):\n",
    "    <center>\n",
    "\n",
    "    $$\n",
    "    \\int_a^bf(x)\\,dx\n",
    "    \\,\\simeq\\,\n",
    "    \\frac{b-a}{6}\\,\\Big(\\,f(a)\\,+\\,4\\,\\, f(\\frac{a+b}{2})\\,+\\,f(b)\\Big)\n",
    "    $$\n",
    "    <img src=\"../../images/cap4_simpson.png\" width=\"300\"/>\n",
    "    </center>\n",
    "\n",
    "````{prf:example} \n",
    ":label: ex_intnumersimple \n",
    ":nonumber: \n",
    "Determinar una aproximación de $\\displaystyle \\int_1^3 \\sin(\\sqrt{x}) \\, dx$ mediante las fórmulas del trapecio y de Simpson, y comparar con la solución exacta:\n",
    "\n",
    "Tomando el cambio de variable $u = x^{1/2}$ e integrando por partes llegamos a:\n",
    "\n",
    "$$\n",
    "\\displaystyle \\int \\sin(\\sqrt{x}) \\, dx = 2 \\sin(\\sqrt{x}) - 2 \\sqrt{x} \\cos(\\sqrt{x}) + C; \\quad \\displaystyle \\int_1^3 \\sin(\\sqrt{x}) \\, dx = 1.9279...\n",
    "$$\n",
    "Mientras que por integración numérica:\n",
    "\n",
    "\\begin{eqnarray*}\n",
    "&\\bullet& \\quad \\text{Trapecio: }\\displaystyle \\int_1^3 \\sin(\\sqrt{x}) \\simeq \\frac{3 - 1}{2}\\big(\\sin(1) + \\sin(\\sqrt{3}) \\big) = 1.8285...\\\\\n",
    "&\\bullet& \\quad \\text{Simpson: } \\displaystyle \\int_1^3 \\sin(\\sqrt{x}) \\simeq \\frac{3 - 1}{6}\\big(\\sin(1) + 4 \\sin(\\sqrt{2}) + \\sin(\\sqrt{3}) \\big) = 1.9265...\n",
    "\\end{eqnarray*}\n",
    "\n",
    "La fórmula de Simpson tiene en cuenta un nodo más que la del trapecio y en este ejemplo podemos ver que arroja una mejor aproximación.\n",
    "````"
   ]
  },
  {
   "cell_type": "markdown",
   "id": "7b59c3f1",
   "metadata": {},
   "source": [
    "## Fórmulas compuestas\n",
    "\n",
    "La idea es sencilla: se divide el intervalo de integración, $[a,b]$, en subintervalos y en cada uno de estos se usa una fórmula de integración numérica simple.\n",
    "\n",
    "El caso más habitual surge cuando tomamos $n$ subintervalos, $[x_i, x_{i + 1}]$, de igual longitud $h$. Es decir, cuando elegimos\n",
    "$x_i = a + ih$, $i = 0, 1, ..., n$, para un valor $h = \\frac{b - a}{n}$.\n",
    "\n",
    "Entonces aproximamos la integral mediante una fórmula simple en cada subintervalo. Pero, ¡cuidado!: \n",
    "* para punto medio o Simpson los intervalos los tenemos que tomar los intervalos de tamaño $2h$, es decir, de 3 en 3 puntos, porque necesitamos el punto medio de cada subintervalo,  $[x_{2i-2}, x_{2i}]$,\n",
    "* para trapecio, como no necesitamos el punto medio, podemos tomar todos los subintervalos que, en este caso, tendrán tamaño $h$: $[x_{i}, x_{i-1}]$.\n",
    "\n",
    "Entonces tendremos:\n",
    "\n",
    "* Punto medio o Simpson compuestos, con $n$ par: $\\displaystyle \\int_a^b f(x)\\,dx = \\sum_{i=1}^{n/2} \\int_{x_{2i-2}}^{x_{2i}} f(x)\\,dx$.\n",
    "* Trapecio compuesto: $\\displaystyle \\int_a^b f(x)\\,dx = \\sum_{i=0}^{n} \\int_{x_{i-1}}^{x_{i}} f(x)\\,dx$.\n",
    "\n",
    "Ahora, dependiendo de la fórmula simple que elijamos tendremos:\n",
    "\n",
    "* **Fórmula del punto medio compuesta**:\n",
    "    <center>\n",
    "\n",
    "    \\begin{eqnarray*}\n",
    "    \\int_a^b f(x)\\,dx = \\sum_{i=1}^{n/2} \\int_{x_{2i-2}}^{x_{2i}} f(x)\\, dx &\\approx& \\sum_{i=1}^{n/2} \\left(x_{2i}-x_{2i-2}\\right) f\\left(x_{2i-1}\\right) \\\\\n",
    "    &=& 2h\\sum_{i=1}^{n/2} f\\left(x_{2i-1}\\right)\n",
    "    \\end{eqnarray*}\n",
    "    <img src=\"../../images/cap4_punto_medio_compuesto.png\" width=\"300\"/>\n",
    "    </center>\n",
    "\n",
    "* **Fórmula del trapecio compuesta**:\n",
    "    <center>\n",
    "\n",
    "    \\begin{eqnarray*}\n",
    "    \\int_a^b f(x)\\,dx = \\sum_{i=1}^{n} \\int_{x_{i-1}}^{x_{i}} f(x)\\, dx &\\approx& \n",
    "    \\sum_{i=1}^{n} \\frac{h}{2} \\left( f\\left(x_{i-1}\\right) + f\\left(x_{i}\\right) \\right) \\\\\n",
    "    &=& \\frac{h}{2} \\left( f(x_{0}) + 2 \\sum_{i=1}^{n-1}f(x_{i}) + f(x_{n}) \\right)\n",
    "    \\end{eqnarray*}\n",
    "    <img src=\"../../images/cap4_trapecio_compuesto.png\" width=\"300\"/>\n",
    "    </center>\n",
    "\n",
    "* **Fórmula de Simpson compuesta**:\n",
    "    <center>\n",
    "\n",
    "    \\begin{eqnarray*}\n",
    "    \\int_a^b f(x)\\,dx = \\sum_{i=1}^{n/2} \\int_{x_{2i-2}}^{x_{2i}} f(x)\\, dx &\\approx& \\sum_{i=1}^{n/2} \\frac{2h}{6} \\left(f\\left(x_{2i-2}\\right) + 4f\\left(x_{2i-1}\\right) + f\\left(x_{2i}\\right) \\right) \\\\\n",
    "    &=& \\frac{2h}{6} \\left( f(x_{0}) + 4\\sum_{i=1}^{n/2} f(x_{2i-1}) + 2\\sum_{i=1}^{n/2-1}f(x_{2i}) + f(x_{n}) \\right)\n",
    "    \\end{eqnarray*}\n",
    "    <img src=\"../../images/cap4_simpson_compuesto.png\" width=\"300\"/>\n",
    "    </center>"
   ]
  },
  {
   "cell_type": "markdown",
   "id": "ce10d13b",
   "metadata": {},
   "source": [
    "## Integración numérica con `Numpy`\n",
    "\n",
    "### Fórmulas simples\n",
    "\n",
    "A continuación mostramos las *functions* que nos permiten la programación de las fórmulas simples que acabamos de ver en `Numpy` y un ejemplo de su aplicación. \n",
    "\n",
    "Probaremos sobre \n",
    "\n",
    "$$\n",
    "I=\\int_{0}^{3}\\left(x^4+1\\right)\\,dx\\,,\n",
    "$$\n",
    "ya que, en este caso sencillo, podemos conocer el valor exacto de la integral:\n",
    "\n",
    "$$\n",
    "I=\\int_{0}^{3}\\left(x^4+1\\right)\\,dx = \\left[\\frac{x^5}{5}+x\\right]_{x=0}^{3} = \\frac{3^5}{5}+3 = 51.6\\, .\n",
    "$$"
   ]
  },
  {
   "cell_type": "code",
   "execution_count": 1,
   "id": "46e6c9ae",
   "metadata": {},
   "outputs": [
    {
     "name": "stdout",
     "output_type": "stream",
     "text": [
      "Valor aproximado de I mediante la fórmula del punto medio =  18.1875\n",
      "Valor aproximado de I mediante la fórmula del trapecio =  124.5\n",
      "Valor aproximado de I mediante la fórmula de Simpson =  53.625\n"
     ]
    }
   ],
   "source": [
    "import sympy as sp\n",
    "import numpy as np\n",
    "\n",
    "def pto_medio(a, b, fpm):\n",
    "    aprox_pm = (b-a) * fpm\n",
    "    return aprox_pm\n",
    "\n",
    "def trapecio(a, b, fa, fb):\n",
    "    aprox_tr = (b-a) * (fa + fb)/2\n",
    "    return aprox_tr\n",
    "\n",
    "def simpson(a, b, fa, fpm, fb):\n",
    "    aprox_simp = (b-a) * (fa + 4*fpm + fb)/6\n",
    "    return aprox_simp\n",
    "\n",
    "x = sp.Symbol('x', real = True)\n",
    "\n",
    "f_exp = x**4 + 1\n",
    "f = sp.lambdify(x,f_exp)\n",
    "\n",
    "a = 0\n",
    "b = 3\n",
    "pm = (a+b)/2\n",
    "\n",
    "fa = f(a)\n",
    "fpm = f(pm)\n",
    "fb = f(b)\n",
    "\n",
    "print('Valor aproximado de I mediante la fórmula del punto medio = ', pto_medio(a,b,fpm) ) \n",
    "print('Valor aproximado de I mediante la fórmula del trapecio = ', trapecio(a,b,fa,fb) ) \n",
    "print('Valor aproximado de I mediante la fórmula de Simpson = ', simpson(a,b,fa,fpm,fb) ) "
   ]
  },
  {
   "cell_type": "markdown",
   "id": "f0fb9824",
   "metadata": {},
   "source": [
    "### Fórmulas compuestas\n",
    "\n",
    "Como puedes ver en el apartado anterior, las fórmulas simples pueden dar resultdos bastante... pésimos.\n",
    "\n",
    "Vamos a implementar ahora de manera eficiente las fórmulas compuestas utilizando la función de `np.sum`. "
   ]
  },
  {
   "cell_type": "code",
   "execution_count": 2,
   "id": "e5f85454",
   "metadata": {},
   "outputs": [
    {
     "name": "stdout",
     "output_type": "stream",
     "text": [
      "aprox_trap:  51.608099919\n",
      "aprox_medio:  51.583801133999984\n",
      "aprox_simpson:  51.60000032399999\n",
      "Exacta:  51.6\n"
     ]
    }
   ],
   "source": [
    "import sympy as sp\n",
    "import numpy as np\n",
    "\n",
    "x = sp.Symbol('x', real = True)\n",
    "f_exp = x**4+1\n",
    "f = sp.lambdify(x,f_exp)\n",
    "\n",
    "a = 0; b = 3\n",
    "n = 100\n",
    "\n",
    "x1 = np.linspace(a,b,n+1) # aquí guardamos los x_{i}. \n",
    "                          # Recuerda que, en Python, se guarda x1[0], x1[1], ..., x1[(n+1)-1] = x1[n]\n",
    "y1 = f(x1)\n",
    "\n",
    "h = (b-a)/n # el tamaño de cada subintervalo\n",
    "\n",
    "aprox_trap = h/2 * (y1[0]+2*np.sum(y1[1:n])+y1[n])\n",
    "aprox_medio = 2*h * np.sum(y1[1:n:2])\n",
    "aprox_simpson = 2*h/6 * (y1[0] + 4*np.sum(y1[1:n:2])+2*np.sum(y1[2:n-1:2])+y1[n])\n",
    "\n",
    "print('aprox_trap: ',aprox_trap) \n",
    "print('aprox_medio: ',aprox_medio) \n",
    "print('aprox_simpson: ',aprox_simpson) \n",
    "\n",
    "print('Exacta: ',b**5/5+b)"
   ]
  },
  {
   "cell_type": "markdown",
   "id": "50e0ce26",
   "metadata": {},
   "source": [
    "## Más información\n",
    "\n",
    "Y ahora os damos alguna referencia para que, si os apetece, ampliéis vuestro conocimiento sobre integración numérica:\n",
    "* En la wiki: https://es.wikipedia.org/wiki/Integraci%C3%B3n_num%C3%A9rica.\n",
    "* En esta página del Departamento de Matemáticas de la Universidad de Oviedo: https://www.unioviedo.es/compnum/laboratorios_py/Inte/Integrales.html."
   ]
  }
 ],
 "metadata": {
  "kernelspec": {
   "display_name": "Python 3 (ipykernel)",
   "language": "python",
   "name": "python3"
  },
  "language_info": {
   "codemirror_mode": {
    "name": "ipython",
    "version": 3
   },
   "file_extension": ".py",
   "mimetype": "text/x-python",
   "name": "python",
   "nbconvert_exporter": "python",
   "pygments_lexer": "ipython3",
   "version": "3.11.5"
  },
  "vscode": {
   "interpreter": {
    "hash": "f2c0f1c90395c109e1b87b1f4d6d2ea9e1b09c8587e65b0565fcfbe20df05a54"
   }
  }
 },
 "nbformat": 4,
 "nbformat_minor": 5
}