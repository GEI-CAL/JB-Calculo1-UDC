{
 "cells": [
  {
   "cell_type": "markdown",
   "metadata": {},
   "source": [
    "## Ejercicios que han caído otros años en el tercer control de prácticas"
   ]
  },
  {
   "cell_type": "markdown",
   "metadata": {},
   "source": [
    "**<FONT SIZE=4>[1]</font>**   Consideramos la función $f$ dada por $f(x) = \\left|\\log(x)\\right| - \\frac{1}{2}$ en el intervalo $I=[\\frac{1}{2},\\frac{3}{2}]$.\n",
    "* Represéntala con `Matplotlib`.\n",
    "* Comprueba (ayudándote de `Python`) que tiene una raíz en $I$.\n",
    "* Para nota: ¿podrías demostrar que esa raíz es única?\n",
    "* Aproxímala utilizando el método de Newton-Raphson tomando $x_{0}=\\frac{8}{10}$ con un error relativo menor que $1.e-9$.\n",
    "* Aproxímala utilizando el método de Newton-Raphson tomando $x_{0}=\\frac{12}{10}$ con un error relativo menor que $1.e-9$. \n",
    "* ¿Podrías explicar que ha pasado en los dos apartados anteriores?\n",
    "* Calcula, ayudándote de `Python`, el máximo y el mínimo absoluto de $f$ en $I$. "
   ]
  },
  {
   "cell_type": "markdown",
   "metadata": {},
   "source": [
    "**<FONT SIZE=4>[2]</font>**  Consideramos la función $f$ dada por $f(x) = e^{\\left|\\sin(x)\\right|} - 2$ en el intervalo $I=[1.8,3.6]$.\n",
    "* Represéntala con `Matplotlib`.\n",
    "* Comprueba (ayudándote de `Python`) que tiene una raíz en $I$.\n",
    "* Para nota: ¿podrías demostrar que esa raíz es única?\n",
    "* Aproxímala utilizando el método de Newton-Raphson tomando $x_{0}=1.8$ con un error relativo menor que $1.e-9$.\n",
    "* Aproxímala utilizando el método de Newton-Raphson tomando $x_{0}=3.6$ con un error relativo menor que $1.e-9$. \n",
    "* ¿Podrías explicar que ha pasado en los dos apartados anteriores?\n",
    "* Calcula, ayudándote de `Python`, el máximo y el mínimo absoluto de $f$ en $I$. "
   ]
  },
  {
   "cell_type": "markdown",
   "metadata": {},
   "source": [
    "**<FONT SIZE=4>[3]</font>** Consideramos la ecuación $\\sin (3x) = 0$\n",
    "\n",
    "* Prueba que tiene una única raíz en el intervalo $[\\pi/6, \\pi/2]$.\n",
    "* Aproxima, con una tolerancia inferior a $10^{-10}$, una raíz de la ecuación mediante el algoritmo de Newton,\n",
    "partiendo de $x_0 = 1$ y de  $x_0 = \\pi / 6$.\n",
    "El código deberá ir mostrando las imágenes de las aproximaciones que va calculando. \n",
    "Interpreta las salidas obtenidas.\n"
   ]
  },
  {
   "cell_type": "markdown",
   "metadata": {},
   "source": [
    "**<FONT SIZE=4>[4]</font>**  \n",
    "\n",
    "* Calcula el polinomio de MacLaurin de grado cinco de la función $f(x)=e^{x}$ y utilízalo para calcular una aproximación del número $r=e$. Acota el error cometido en la aproximación. Dibuja la función $f$ y el polinomio de interpolación en el intervalo $[-4,4]$.\n",
    "\n",
    "    Debes resolver todo a mano y en Python. La representación gráfica es suficiente hacerla con Python. \n",
    "\n",
    "* Aproxima numéricamente la raíz del polinomio que has construído en el apartado anterior con el método de Newton-Raphson partiendo de cero como aproximación inicial. Calcula la primera iteración del método a mano."
   ]
  },
  {
   "cell_type": "markdown",
   "metadata": {},
   "source": [
    "**<FONT SIZE=4>[5]</font>**   Consideramos la función $f$ dada por $f(x) = x\\log(x)$, en el intervalo $I=[0,2]$. \n",
    "\n",
    "* Represéntala con `Matplotlib`.\n",
    "* Calcula su polinomio de Taylor centrado en $x_{0}=1$ de orden $n=10$. \n",
    "* Calcula su polinomio de Taylor centrado en $x_{0}=0.5$ de orden $n=10$.\n",
    "* Calcula su polinomio de Taylor centrado en $x_{0}=1.25$ de orden $n=10$.\n",
    "* Aproxima con los polinomios anteriores el valor $\\log\\left(\\frac{3}{2}\\sqrt{\\frac{3}{2}}\\right)$. Compara los resultados con la solución exacta. ¿Qué conclusiones sacas?\n",
    "* Toma el polinomio que haya dado mejor resultado en el apartado anterior y súbelo a orden $n=20$. Con él, vuelve a aproximar $\\log\\left(\\frac{3}{2}\\sqrt{\\frac{3}{2}}\\right)$. ¿Qué conclusiones sacas?"
   ]
  },
  {
   "cell_type": "markdown",
   "metadata": {},
   "source": [
    "**<FONT SIZE=4>[6]</font>**\n",
    "\n",
    "* Sea $f(x)=\\log\\left(\\dfrac{1+x}{1-x}\\right)$. Calcula el dominio de $f$. Estudia la concavidad y la convexidad de $f$.\n",
    "\n",
    "  Debes resolver todo a mano. Puedes ayudarte de Python para comprobar los resultados.\n",
    "* Calcula el polinomio de Maclaurin de grado dos de la función $f$ y utilízalo para calcular una aproximación del número $r=\\log(3)$. Acota el error cometido en la aproximación. Dibuja la función $f$ y el polinomio\n",
    "en el intervalo $(-1,1)$. Nota:\n",
    "\n",
    "  Debes resolver todo a mano y en Python. La representación gráfica es suficiente hacerla con Python. "
   ]
  },
  {
   "cell_type": "markdown",
   "metadata": {},
   "source": [
    "**<FONT SIZE=4>[7]</font>** Sea $f(x) = \\sin {(x -\\pi)}$. Para $x_0 = 3$ se pide:\n",
    "\n",
    "* Aproxima $\\sin {(4 - \\pi)}$ mediante $P_6\\,$, polinomio de Taylor de orden 6 centrado en $x_0$. Muestra al menos 6 cifras decimales.\n",
    "* Obtén el resto de Taylor para dicha aproximación y acótalo. "
   ]
  }
 ],
 "metadata": {
  "kernelspec": {
   "display_name": "Python 3 (ipykernel)",
   "language": "python",
   "name": "python3"
  },
  "language_info": {
   "codemirror_mode": {
    "name": "ipython",
    "version": 3
   },
   "file_extension": ".py",
   "mimetype": "text/x-python",
   "name": "python",
   "nbconvert_exporter": "python",
   "pygments_lexer": "ipython3",
   "version": "3.12.3"
  },
  "vscode": {
   "interpreter": {
    "hash": "f2c0f1c90395c109e1b87b1f4d6d2ea9e1b09c8587e65b0565fcfbe20df05a54"
   }
  }
 },
 "nbformat": 4,
 "nbformat_minor": 4
}