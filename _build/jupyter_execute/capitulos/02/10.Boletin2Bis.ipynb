{
 "cells": [
  {
   "cell_type": "markdown",
   "metadata": {},
   "source": [
    "## Ejercicios que han caído otros años en el segundo control de prácticas"
   ]
  },
  {
   "cell_type": "markdown",
   "metadata": {},
   "source": [
    "**<FONT SIZE=4>[1]</font>**   Consideramos la función \n",
    "\n",
    "$$\n",
    "f(x) = \\frac{\\ln(\\tan(x)) +x}{x^2 - 2} - 1\n",
    "$$\n",
    " \n",
    "* Comprueba que esa función tiene una raíz en el intervalo $[0,1]$.\n",
    "* Utiliza el método de dicotomía para aproximar esa raíz con un error **absoluto** menor que\n",
    "    * 1.e-1\n",
    "    * 1.e-5\n",
    "    * 1.e-12\n",
    "* Intenta aplicar el método de dicotomía para aproximar esa raíz en el intervalo $[-1.6,1]$. Interpreta el resultado.\n",
    "* Relaciona lo que acabas de hacer con la búsqueda de una solución en el intervalo $[0,0.5]$ de la ecuación\n",
    "    $$\n",
    "    \\ln(\\tan(x)) + x = \\frac{1}{2} \\left(x^2 - 2\\right). \n",
    "    $$\n",
    "* Representa, utilizando `Matplotlib`, $f$ en el intervalo $[x_1,1]$, siendo $x_1$ la primera aproximación que hayas obtenido en el primer apartado. "
   ]
  },
  {
   "cell_type": "markdown",
   "metadata": {},
   "source": [
    "**<FONT SIZE=4>[2]</font>**  Aproxima, utilizando `Python` y el método de dicotomía, todas las raíces de la función $g(x)=\\sin\\sqrt{x}$ en el intervalo $[0,60]$. "
   ]
  },
  {
   "cell_type": "markdown",
   "metadata": {},
   "source": [
    "**<FONT SIZE=4>[3]</font>**  Para aproximar una raíz de la ecuación $\\sqrt{x^2 +1} -2x = 0$ en $[0,1]$ se pide:\n",
    "\n",
    "1. Verifica que cumple las hipótesis del teorema de Bolzano.\n",
    "\n",
    "2. Aproxima una raíz $\\alpha$ con una tolerancia en error relativo de $10^{-8}$. Presenta al menos 6 cifras decimales.\n",
    "\n",
    "3. Calcula la imagen $\\alpha$ mediante la función asociada a la ecuación.\n"
   ]
  },
  {
   "cell_type": "markdown",
   "metadata": {},
   "source": [
    "**<FONT SIZE=4>[4]</font>** Para aproximar una raíz de la ecuación $\\dfrac {e^x}{e^x + 1} = 0.6$ en $[-2,0.5]$ se pide:\n",
    "\n",
    "1. Verifica que cumple las hipótesis del teorema de Bolzano.\n",
    "\n",
    "2. Aproxima una raíz $\\alpha$ con una tolerancia en error relativo de $10^{-7}$. Presenta 6 cifras decimales.\n",
    "\n",
    "3. Calcula la imagen $\\alpha$ mediante la función asociada a la ecuación.\n"
   ]
  },
  {
   "cell_type": "markdown",
   "metadata": {},
   "source": [
    "**<FONT SIZE=4>[5]</font>**  Consider the same function $f: [-2,2] \\to R$, given by $f(x)=x^3+x+1$. \n",
    "\n",
    "1. Plot the function $f$ in the given interval using Numpy and Matplotlib.\n",
    "\n",
    "2. Solve the equation $f(x)=0$ using the Bisection method. Take the initial starting point by looking at the graph. \n",
    "Compute the solution with tolerance $|f(x_i)|<10^{-12}$ with Python, and print the number of required steps."
   ]
  },
  {
   "cell_type": "markdown",
   "metadata": {},
   "source": [
    "**<FONT SIZE=4>[6]</font>**  Consideramos la función \n",
    "\n",
    "$$\n",
    "f(x) = tan(x-1)+5\n",
    "$$\n",
    "\n",
    "y los puntos $x_0= -0.50$, $x_1 = -0.45$, $x_2 = -0.30$, $x_3 = 0.30$, $x_4 = 0.70$, $x_5 = 1$, $x_6 = 1.2$, \n",
    "$x_7 = 1.40$, $x_8=1.80$, $x_9=2.10$ y $x_{10} = 2.40$. \n",
    "\n",
    "* Construye, con la ayuda de `Numpy`, un polinomio que valga $5$ en $x_{3}$ y $0$ en el resto de nodos. Llamaremos $L_{3}$ a ese polinomio.\n",
    "* Construye, con ayuda de `Numpy` y utilizando diferencias divididas, el polinomio de interpolación de Lagrange que pase por los once puntos elegidos, $p_{10}$.\n",
    "* Aproxima, utilizando el polinomio $p_{10}$, el valor $B = \\tan(2) + 6$.  \n",
    "* Representa, con `Matplotlib`, $f$, $L_{3}$ y $p_{10}$ en el intervalo $\\left[ x_{0}, x_{10}\\right]$."
   ]
  },
  {
   "cell_type": "markdown",
   "metadata": {},
   "source": [
    "**<FONT SIZE=4>[7]</font>**  Queremos aproximar, con un polinomio de Lagrange, la función \n",
    "\n",
    "$$\n",
    "f(x) = \\frac{\\cos(x)+\\sin(x)}{\\cos(x)+2},\n",
    "$$\n",
    "en el intervalo $[-6,6]$. Para ello, dividimos el intervalo tomando $n$ puntos a la misma distancia, evaluamos la función en esos puntos, y calculamos el polinomio de Lagrange correspondiente (ejemplo: si n=13, los puntos que usaremos serán $x_0=-6$, $x_1=-5$,..., $x_{12} = 6$).\n",
    "\n",
    "1. Con $n=13$ construye, con ayuda de `Numpy` y utilizando diferencias divididas, el polinomio de interpolación de Lagrange correspondiente. Aproxima con él el valor $f(0.30)$ y calcula el error relativo, en tanto por ciento, que estamos cometiendo,\n",
    "\n",
    "    $$\n",
    "    \\frac{|p_{12}(0.30) - f(0.30)|}{|f(0.30)|}100.\n",
    "    $$\n",
    "   ¿Y este mismo error en $-5.5$?\n",
    "2. Repite el experimento con $n=25$ y $n=40$ (en los dos puntos, $0.30$ y $-5.5$). Interpreta los resultados.\n",
    "3. Representa, con `Matplotlib`, $f$, $p_{12}$, $p_{24}$ y $p_{39}$ en el intervalo $\\left[ -6, 6\\right]$.\n"
   ]
  },
  {
   "cell_type": "markdown",
   "metadata": {},
   "source": [
    "**<FONT SIZE=4>[8]</font>**  Sea la función $s$ dada por $s(x) = \\dfrac {e^x}{e^x + 1} - 0.6 $.\n",
    "\n",
    "1. Construye un vector x de 9 puntos igualmente separados incluyendo los extremos en [-2,2].\n",
    "\n",
    "2. Sea p, polinomio de Lagrange, que interpola la tabla formada por los puntos del vector anterior y sus imágenes mediante $s$. Mediante diferencias divididas comprueba p(1).\n",
    "\n",
    "3. Estima mediante p el valor en $1.25$ y calcula el error absoluto respecto a $s(1.25)$.\n",
    "Presenta al menos 6 cifras decimales en los apartados b y c."
   ]
  },
  {
   "cell_type": "markdown",
   "metadata": {},
   "source": [
    "**<FONT SIZE=4>[9]</font>** El gran derby ha registrado en la tabla los tiempos de paso en determinados puntos del circuito de 2 km. de longitud del jinete ganador\n",
    "\n",
    "* puntos kilométricos (km): $[0,\\; 0.5,\\; 1,\\; 1.5,\\; 2.0]$,\n",
    "* y los tiempos de paso (seg): $[0,\\; 50,\\; 90,\\; 130,\\; 195]$.\n",
    "\n",
    "1. Construye la tabla de diferencias divididas correspondiente a los datos. Muestra solamente los valores de diferencias divididas que se emplean en la construcción del polinomio de interpolación.   \n",
    "    \n",
    "2. Comprueba en todos los datos del enunciado que se interpola la tabla. Estima el tiempo de paso en el punto 1.25 km mediante el polinomio de Lagrange basado en las diferencias divididas.  \n",
    "    \n",
    "3. Realiza el proceso anterior invirtiendo el orden de datos en el sentido de expresar los puntos kilométricos para cada valor de los tiempos de paso. Si estimas el punto km. para el valor obtenido en el apartado b) ¿obtienes 1.25 km? Justifica la respuesta."
   ]
  },
  {
   "cell_type": "markdown",
   "metadata": {},
   "source": [
    "**<FONT SIZE=4>[10]</font>**  Calcula el polinomio de interpolación de Lagrange de orden dos relativo a $f(x)=\\sin{x}$ en los puntos $x_0=0$, $x_1=\\frac{\\pi}{2}$, $x_2=\\pi$ y $x_3=\\frac{3\\pi}{2}$. Utiliza dicho polinomio para calcular una aproximación del número $r=\\frac{\\sqrt{2}}{2}$. Dibuja la función $f$ y el polinomio de interpolación en el intervalo $[-1,2\\pi]$. \n",
    "\n",
    "**Nota:** Debes calcular el polinomio a mano. Además, debes comprobar con Python que has calculado bien el polinomio. La aproximación de $r$ y la gráfica es suficiente hacerla con Python. "
   ]
  },
  {
   "cell_type": "markdown",
   "metadata": {},
   "source": [
    "**<FONT SIZE=4>[11]</font>**   Given the following table of points:\n",
    "\n",
    "$$\n",
    "\\begin{array}{c|cccc}\n",
    "x_i &  0  &1 & 2 &4 \\\\\n",
    "\\hline\n",
    "f(x_i) &1 &1 &2& 5\n",
    "\\end{array}\n",
    "$$\n",
    "\n",
    "1) Write the code using Numpy for finding the Lagrange interpolating polynomial, using the Lagrange basis technique. \n",
    "\n",
    "2) Write the code using Numpy for finding the Lagrange interpolating polynomial, using Newton's divided differences technique. \n",
    "\n",
    "3) Plot, in the same graph, the interpolating points and the obtained Lagrange polynomial, in blue and red, respectively. Find an approximation of f at $x=2.1$."
   ]
  },
  {
   "cell_type": "markdown",
   "metadata": {},
   "source": [
    "**<FONT SIZE=4>[12]</font>** \n",
    "1. Calcula el polinomio de interpolación de Lagrange de orden dos relativo a $f(x)=\\sqrt{x}$ en los puntos $x_0=0$, $x_1=16$ y $x_2=25$. Utiliza dicho polinomio para calcular una aproximación del número $r=\\sqrt{7.5}$.\n",
    "  \n",
    "   **Nota:** Debes calcular el polinomio a mano y simplificarlo con la ayuda de Python. Además, debes comprobar con Python que has calculado bien el polinomio. La aproximación de $r$ es suficiente hacerla con Python. \n",
    "4. Con el objetivo de mejorar la aproximación de $r$, construye, utilizando `Python`, el polinomio de interpolación de Lagrange relativo a $f$ en los puntos $x_i=i$, $i=0.1,2,\\ldots,25$. Dibuja dicho polinomio en el intervalo $[0,25]$ y calcula la nueva aproximación de $r$. ¿Cuál es el error absoluto que comete esta nueva aproximación? "
   ]
  },
  {
   "cell_type": "markdown",
   "metadata": {},
   "source": [
    "**<FONT SIZE=4>[13]</font>** \n",
    "1. Calcula el polinomio de interpolación de Lagrange de orden tres relativo a $f(x)=\\left(\\frac{1}{3}\\right)^x$ en los puntos $x_0=-1$, $x_1=0$, $x_2=1$ y $x_3=2$. Utiliza dicho polinomio para calcular una aproximación del número $r=\\frac{\\sqrt{3}}{9}$. Dibuja la función $f$ y el polinomio de interpolación en el intervalo $[-2,4]$.\n",
    "\n",
    "   **Nota:** Debes calcular el polinomio a mano. Además, debes comprobar con `Python` que has calculado bien el polinomio. La aproximación de $r$ y la gráfica es suficiente hacerla con Python.\n",
    "3. Aproxima, con `Python` y el método de dicotomía, la raíz del polinomio de interpolación que has contruido en el apartado anterior. ¿Cómo de pequeña es la imagen de la función en la aproximación numérica de la raíz?"
   ]
  },
  {
   "cell_type": "markdown",
   "metadata": {},
   "source": [
    "**<FONT SIZE=4>[14]</font>** \n",
    "1. Calcula, mediante o método de diferenzas divididas, o polinomio interpolador de Lagrange asociado aos puntos $(-2,6)$, $(-1,3)$, $(0,2)$, $(1,3)$, $(2,6)$, $(3,11)$.\n",
    "2. Se engadimos un novo punto $(a,b)$ ao conxunto de puntos anterior: cales son os valores de $a$ e $b$ para que o polinomio interpolador manteña a mesma expresión?"
   ]
  }
 ],
 "metadata": {
  "kernelspec": {
   "display_name": "Python 3 (ipykernel)",
   "language": "python",
   "name": "python3"
  },
  "language_info": {
   "codemirror_mode": {
    "name": "ipython",
    "version": 3
   },
   "file_extension": ".py",
   "mimetype": "text/x-python",
   "name": "python",
   "nbconvert_exporter": "python",
   "pygments_lexer": "ipython3",
   "version": "3.12.3"
  },
  "vscode": {
   "interpreter": {
    "hash": "f2c0f1c90395c109e1b87b1f4d6d2ea9e1b09c8587e65b0565fcfbe20df05a54"
   }
  }
 },
 "nbformat": 4,
 "nbformat_minor": 4
}