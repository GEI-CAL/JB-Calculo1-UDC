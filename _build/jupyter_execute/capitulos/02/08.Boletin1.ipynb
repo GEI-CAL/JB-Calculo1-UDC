{
 "cells": [
  {
   "cell_type": "markdown",
   "metadata": {},
   "source": [
    "# Boletín 1: Funciones reales de una variable real\n",
    "\n",
    "Te dejamos aquí algunos ejercicios para que practiques lo que has dibido aprender en este capítulo. ¡Ánimo!\n"
   ]
  },
  {
   "cell_type": "markdown",
   "metadata": {},
   "source": [
    "**<FONT SIZE=4>[1]</font>**  Ordena los números siguientes de menor a mayor. Indica a cuál de los conjuntos siguientes: naturales, enteros, racionales o irracionales, pertenecen dichos números.\n",
    "**Nota**: Indica sólo el conjunto *más pequeño* al que pertenece cada número; por ejemplo $2\\in \\mathbb{N}$  y $0.5\\in \\mathbb{Q}$.\n",
    "\n",
    "  | **Número** | $0.25$ | $\\sqrt{2}$ | $\\dfrac{15}2$ | $0.102024$ | $-\\sqrt{4}$ | $\\dfrac{12}4$ | $2.333\\dots$ |  $3$ |  \n",
    "  | :----: |  :----: |  :----: |  :----: |  :----: |  :----: |  :----: |  :----: |  :----: | \n",
    "  | **Conjunto** | | $\\vphantom{\\dfrac{2}{3}}$ | | | | | | |"
   ]
  },
  {
   "cell_type": "markdown",
   "metadata": {},
   "source": [
    "**<FONT SIZE=4>[2]</font>** Calcula o simplifica cuando sea posible:\n",
    "\n",
    "  $$\n",
    "  \\begin{array}{llll}\n",
    "  \\text{1.}\\quad \\ln (e) & \\text{2.}\\quad \\ln (e^2) & \\text{3.} \\ln (0) & \\text{4.}\\quad \\ln (-1) \\\\\n",
    "  \\text{5.}\\quad \\ln(2) & \\text{6.} \\quad e^0 & \\text{7.}\\quad e^{-1} & \\text{8.}\\quad e^{\\ln (1)} \\\\\n",
    "  \\text{9.}\\quad e^{\\ln (e)} & \\text{10.}\\quad e^{\\ln(e^3)} & \\text{11.}\\quad \\ln \\sqrt{2^3} &\n",
    "  \\text{12.}\\quad \\dfrac{\\ln (5x)}{\\ln \\left( \\frac{5}{x} \\right)} \\\\\n",
    "  \\text{13.}\\quad \\dfrac{\\ln (5+x)}{\\ln (5-x)} \\quad & \\text{14.}\\quad \\ln (e^2) e^{\\ln (5+x) - \\ln (5x)} \\quad &\n",
    "  \\text{15.}\\quad \\ln \\left( \\dfrac{x^2-1}{x^3} \\right)^3 \\quad &\n",
    "  \\end{array}\n",
    "  $$"
   ]
  },
  {
   "cell_type": "markdown",
   "metadata": {},
   "source": [
    "**<FONT SIZE=4>[3]</font>** Resuelve las ecuaciones siguientes:\n",
    "\n",
    "  $$\n",
    "  \\begin{array}{ll}\n",
    "  \\text{1.} \\quad \\sqrt{x-3}+5=x & \\text{2.} \\quad e^{x-3}=30 \\\\\n",
    "  \\text{3.} \\quad 9^{2x+1}=27 &    \\text{4.} \\quad 10^{5x}=1000 \\\\\n",
    "  \\text{5.} \\quad e^{x^2-1}=9 &  \\text{6.}\\quad \\ln(x-3)=5 \\\\\n",
    "  \\text{7.} \\quad \\ln(x+2)+\\ln(x-2)=1 \\qquad & \\text{8.} \\quad \\log_3(x^2)-\\log_3(2x)=2\n",
    "  \\end{array}\n",
    "  $$"
   ]
  },
  {
   "cell_type": "markdown",
   "metadata": {},
   "source": [
    "**<FONT SIZE=4>[4]</font>** ¿Dónde está el error en el razonamiento siguiente?\n",
    "\n",
    " $\\qquad \\sqrt{25}=\\sqrt{5^2}=5\\quad$ implica que $\\quad\\sqrt{25}=\\sqrt{(-5)^2}=-5.\\quad$  Entonces: $\\quad 5 = -5$\n"
   ]
  },
  {
   "cell_type": "markdown",
   "metadata": {},
   "source": [
    "**<FONT SIZE=4>[5]</font>** Si $a>0$ entonces:  \n",
    "\n",
    "1. $|x| = a$ significa que $ x=\\dots $ o bien $x = \\dots $\n",
    "2. $|x| < a$ significa que $\\dots$\n",
    "3. $|x| \\geq  a$ significa que $\\dots$"
   ]
  },
  {
   "cell_type": "markdown",
   "metadata": {},
   "source": [
    "**<FONT SIZE=4>[6]</font>** Resuelve las ecuaciones siguientes:\n",
    " \n",
    " 1. $|2x-4|=6$\n",
    "\n",
    " 2. $|7x-3|=-2$\n",
    "\n",
    " 3. $|2x+4|=|5x-2|$\n",
    "  \n"
   ]
  },
  {
   "cell_type": "markdown",
   "metadata": {},
   "source": [
    "**<FONT SIZE=4>[7]</font>** Resuelve las inecuaciones siguientes:\n",
    "   \n",
    "1. $|3x-2|\\le10$\n",
    "\n",
    "2. $|6x+1|<2$\n",
    "\n",
    "3. $|-4x+3|>1$\n",
    "\n",
    "4. $|5x-1|\\ge 2$\n",
    "\n",
    "\n"
   ]
  },
  {
   "cell_type": "markdown",
   "metadata": {},
   "source": [
    "**<FONT SIZE=4>[8]</font>** Completa la siguiente tabla con los valores correspondientes:\n",
    "\n",
    "  | Ángulo | $0$ | $\\dfrac{\\pi}{6}$ | $\\dfrac{\\pi}{4}$ | $\\dfrac{\\pi}{3}$ | $\\dfrac{\\pi}{2}$ | $\\pi$ | $\\dfrac{3\\pi}{2}$ | $2\\pi$ |\n",
    "  | -- | -- | -- | -- | -- | -- | -- | -- | -- |\n",
    "  | Seno | | | | | | | | |\n",
    "  | Coseno | | | | | | | | |\n",
    "  | Tangente | | | | | | | | |\n",
    "  | Cotangente | | | | | | | | |\n",
    "  | Secante | | | | | | | | | \n",
    "  | Cosecante | | | | | | | | |\n",
    "\n"
   ]
  },
  {
   "cell_type": "markdown",
   "metadata": {},
   "source": [
    "**<FONT SIZE=4>[9]</font>** Determina el ángulo $\\alpha\\in[0,2\\pi)$ tal que\n",
    "\n",
    "  1. $\\sin(\\alpha)=-\\dfrac{\\sqrt{3}}{2}$\n",
    "\n",
    "  2. $\\tan(\\alpha)=\\sqrt{3}$"
   ]
  },
  {
   "cell_type": "markdown",
   "metadata": {},
   "source": [
    "**<FONT SIZE=4>[10]</font>** **Ecuación de la recta:**\n",
    "    \n",
    "1. Calcula la ecuación de la recta que pasa por el punto $(2,-1)$ y tiene pendiente $3$.\n",
    "\n",
    "2. Calcula la ecuación de la recta que pasa por los puntos $(1,-1)$ y $(2,3)$.\n",
    "\n",
    "3. Sin calcular la ecuación, responde a la siguiente pregunta: ¿puede una recta pasar por los puntos $(0,2)$, $(2,1)$ y $(4,-1)$?\n",
    "\n",
    "4. Escribe la ecuación de **una** recta paralela a la recta $y=x$.\n",
    "\n",
    "5. Escribe la ecuación de **la** recta paralela a la recta $y=x$ que pasa por el punto $P=(2, -1)$.\n",
    "\n",
    "6. Escribe la ecuación de la recta horizontal que pasa por el punto $(3,\\frac{7}{2})$.\n",
    "\n",
    "7. Escribe la ecuación de la recta vertical que pasa por el punto $(-1,\\frac{5}{3})$.\n",
    "\n",
    "8. Calcula la ecuación de la recta que pasa por el punto $(1,4)$ y es perpendicular a la recta de ecuación $2y-5x+7=0$.\n",
    "\n",
    "9. Calcula la ecuación de la recta que pasa por $(-1,-1)$ y es paralela a la que pasa por los puntos $(0,1)$ y $(5,0)$.\n",
    "\n",
    "10. Si la capacidad pulmonar cae del $100\\%$ a los 20 años hasta el $40\\%$ a la edad de 80 años, y se supone una relación lineal, obtén esa relación lineal y calcula la edad a la que corresponde un $25\\%$ de capacidad pulmonar. \n",
    "\n"
   ]
  },
  {
   "cell_type": "markdown",
   "metadata": {},
   "source": [
    "**<FONT SIZE=4>[11]</font>** Calcula la ecuación de las circunferencias:\n",
    "\n",
    "1. de centro $(0,0)$ y radio $2$;\n",
    "\n",
    "2. de centro $(1,2)$ y radio $3$;\n",
    "\n",
    "3. de centro $(-1,2)$ y radio $4$.\n",
    "\n",
    "\n"
   ]
  },
  {
   "cell_type": "markdown",
   "metadata": {},
   "source": [
    "**<FONT SIZE=4>[12]</font>** Calcula la ecuación de la parábola que pasa por los puntos $(-2,13)$, $(2,1)$ y $(4,1)$.\n",
    "\n"
   ]
  },
  {
   "cell_type": "markdown",
   "metadata": {},
   "source": [
    "**<FONT SIZE=4>[13]</font>** Determina el dominio máximo de la siguiente función:\n",
    "    \n",
    "  $$\n",
    "  f(x)=\\frac{3x - \\tan(2x)}{\\sqrt{1-x^2}}.\n",
    "  $$\n",
    "\n"
   ]
  },
  {
   "cell_type": "markdown",
   "metadata": {},
   "source": [
    "**<FONT SIZE=4>[14]</font>** El coste $C$ de enviar un paquete por una empresa de transporte depende del peso $p$ en gramos, como sigue:\n",
    "\n",
    "  $$\n",
    "        C(p) = \\left\\{\\begin{array}{cl}\n",
    "        0.8          \\, & \\quad  \\text{si } p \\in [0,10), \\\\  \n",
    "        1  + 0.2\\,p    \\, & \\quad  \\text{si } p \\in [10,20), \\\\ \n",
    "        1 + 0.1\\,p     \\, & \\quad  \\text{si } p \\in [20,30), \\\\   \n",
    "        p^2        \\, & \\quad  \\text{si } p \\in [30,\\infty). \\\\\n",
    "        \\end{array}\\right.\n",
    "  $$\n",
    "\n",
    "  Dibuja la gráfica de la función $C$, indicando su dominio y su rango, y estudia el crecimiento de la función.\n",
    "\n"
   ]
  },
  {
   "cell_type": "markdown",
   "metadata": {},
   "source": [
    "**<FONT SIZE=4>[15]</font>** Analiza si cada una de las funciones siguientes es par, impar o ninguna de las dos cosas:\n",
    "\n",
    "  1. $f_1(x)=3x-x^2$ \n",
    "\n",
    "  2. $f_2(x)= 2x^3-x$ \n",
    "\n",
    "  3. $f_3(x)=\\displaystyle\\frac12x^4+e^{x^2}+5$ \n",
    "\n",
    "  4. $f_4(x)=\\displaystyle\\frac{\\tan(x)+\\sin(x)}{\\cos(x^{2})}$ \n",
    "\n",
    "  5. $f_6(x)=\\displaystyle\\frac{x^{4}\\sin^{3}(x)}{\\tan(x)} $ \n",
    "\n",
    "  6. $f_7(x)=\\left\\vert x\\right\\vert (x+1)^{2}$ \n",
    "\n",
    "  7. $f_8(x)=\\displaystyle\\frac{x^{4}-\\cos(x)}{x^{2}-\\sin(x)}$\n",
    "\n",
    "\n"
   ]
  },
  {
   "cell_type": "markdown",
   "metadata": {},
   "source": [
    "**<FONT SIZE=4>[16]</font>** ¿Qué propiedad gráfica caracteriza a una función par? ¿Y a una impar?\n",
    "\n"
   ]
  },
  {
   "cell_type": "markdown",
   "metadata": {},
   "source": [
    "**<FONT SIZE=4>[17]</font>** Analiza si cada una de las funciones siguientes es periódica. En caso afirmativo, determina su periodo.\n",
    "\n",
    "  1.  $f_1(x)=\\sin(3x)$   \n",
    "\n",
    "  2. $f_2(x)= \\cos(x-2)$ \n",
    "\n",
    "  3. $f_3(x)=\\cos(x)-2$  \n",
    "\n",
    "  4. $f_4(x)=\\displaystyle\\tan\\left(x-\\frac{\\pi}{2}\\right)$ \n",
    "\n",
    "  5. $f_5(x)=\\displaystyle 4\\sin(x) + 3\\cos(2x) - 5 \\sin\\left(\\frac{2}{5}x\\right)$\n",
    "\n",
    "\n"
   ]
  },
  {
   "cell_type": "markdown",
   "metadata": {},
   "source": [
    "**<FONT SIZE=4>[18]</font>** Sean $f(x)=\\displaystyle\\frac{6x}{x^{2}-9}$ y $g(x)=\\sqrt{3x}$.\n",
    "\n",
    "  Primero calcula $(f\\circ g)(12)$, luego $(f\\circ g)(x)$ y, por último,\n",
    "  encuentra el dominio de $f\\circ g$.\n",
    "\n"
   ]
  },
  {
   "cell_type": "markdown",
   "metadata": {},
   "source": [
    "**<FONT SIZE=4>[19]</font>** Elige la opción correcta. Dadas $ f(x)=\\displaystyle{\\frac{4x^2+1}{x-1}}$ y $ g(x)=\\displaystyle{\\frac{x-1}{x^2}}$, entonces\n",
    "\n",
    "  1. $(f\\circ g)(1)=-1\\,$ y $\\,(g\\circ f)(1)=0$\n",
    "\n",
    "  2. $(f\\circ g)(2)=-5/3\\,$ y $\\,(g\\circ f)(0)=-2$ \n",
    "\n",
    "  3. $(f\\circ g)(-1)=17/3\\,$ y $\\,(g\\circ f)(-1)=g(5/2)$\n",
    "\n",
    "  4. ninguna de las otras respuestas es correcta\n",
    "\n",
    "\n"
   ]
  },
  {
   "cell_type": "markdown",
   "metadata": {},
   "source": [
    "**<FONT SIZE=4>[20]</font>** El agua de un charco de forma circular se evapora lentamente por el efecto del sol. Después de $t$ minutos el radio del charco mide $18/(2t+3)\\,$cm. \n",
    "Expresa el área $A$ del charco en función del tiempo. Relaciona lo que has hecho con el concepto de composición de funciones.\n",
    "\n"
   ]
  },
  {
   "cell_type": "markdown",
   "metadata": {},
   "source": [
    "**<FONT SIZE=4>[21]</font>** Se sabe que el número $n$ de ordenadores de sobremesa de los laboratorios de una facultad\n",
    "de Informática se incrementa cada curso académico, en función del número $x$\n",
    "de alumnos admitidos en la facultad, según la fórmula\n",
    "\n",
    " $$n(x) = 10+0.05x.$$\n",
    " \n",
    " También se sabe que el número $x$ de alumnos admitidos en cada curso académico depende\n",
    " del número $a$ de alumnos de bachillerato científico-tecnológico que han aprobado las pruebas ABAU,\n",
    " según la fórmula\n",
    "\n",
    " $$x(a)=100+\\sqrt{\\frac{a}{12}}.$$\n",
    " \n",
    " 1. Expresa el número de ordenadores en función del número de aprobados en las pruebas ABAU.\n",
    "\n",
    " 2. Estima el número de ordenadores que tendría que comprar la facultad el próximo curso si\n",
    "       aprobasen las pruebas EBAU 4800 alumnos de bachillerato científico-tecnológico.\n",
    "\n",
    " 3. Halla la fórmula que calcula el número de aprobados conociendo el número de admitidos en la facultad.\n",
    " \n",
    "\n"
   ]
  },
  {
   "cell_type": "markdown",
   "metadata": {},
   "source": [
    "**<FONT SIZE=4>[22]</font>** ¿Existe la inversa de la función de la figura? ¿Por qué?\n",
    "\n",
    "  <img src=\"../../images/cap2_boletin1_figura.png\" width=\"200\"/> "
   ]
  },
  {
   "cell_type": "markdown",
   "metadata": {},
   "source": [
    "**<FONT SIZE=4>[23]</font>** Comprueba que las funciones siguientes son inversas entre sí:\n",
    "\n",
    "  $$\n",
    "  f(u)=\\frac{u-1}{u+1}\\,, \\qquad g(u)=\\frac{u+1}{1-u}\\,.\n",
    "  $$\n",
    "\n"
   ]
  },
  {
   "cell_type": "markdown",
   "metadata": {},
   "source": [
    "**<FONT SIZE=4>[24]</font>** Elige la opción correcta. La función inversa de $f$ dada por $f(x)=e^{x^3+1}$ es:\n",
    "\n",
    "  1. $f$ no tiene función inversa\n",
    "\n",
    "  2. $\\ln{(x^3+1)}$\n",
    "\n",
    "  3. $\\sqrt[3]{\\ln(y)-1}$\n",
    "\n",
    "  4. $\\displaystyle{\\frac{1}{e^{x^3+1}}}$\n",
    "\n",
    "\n"
   ]
  },
  {
   "cell_type": "markdown",
   "metadata": {},
   "source": [
    "**<FONT SIZE=4>[25]</font>** Calcula, en caso de existir, la inversa de las siguientes funciones:\n",
    "\n",
    "  1. $f_1(x) = x^3+5$ \n",
    "\n",
    "  2. $f_2(x) =\\sin(2x-7)$ \n",
    "\n",
    "  3. $f_3(x) = \\textbf{e}^{2x}$ \n",
    "\n",
    "  4. $f_4(x)=\\displaystyle\\frac{1}{5}+e^{x}$ \n",
    "\n",
    "  5. $f_5(x)=\\sqrt{2x-3}$ \n",
    "\n",
    "  6. $f_6(x)=\\sqrt[3]{\\frac{x+1}{2}}$ \n",
    "\n",
    "  7. $f_7(x)=\\displaystyle\\frac{1+x^{2}}{x^{2}}$ \n",
    "\n"
   ]
  },
  {
   "cell_type": "markdown",
   "metadata": {},
   "source": [
    "**<FONT SIZE=4>[26]</font>** ¿Cuál o cuáles de las siguientes funciones son polinomios?\n",
    "\n",
    "  1. $f_1(x) = x^2+6x^{-3}$\n",
    "\n",
    "  2. $f_2(x) = x^{\\frac{2}{3}}-6x^3$\n",
    "\n",
    "  3. $f_3(x) = \\dfrac{x^4+6x^3}{x^2+6x-7}$     \n",
    "\n",
    "  4. $f_4(x) = x^4+6x^3$\n",
    "\n",
    "\n",
    "\n",
    "     "
   ]
  },
  {
   "cell_type": "markdown",
   "metadata": {},
   "source": [
    "**<FONT SIZE=4>[27]</font>** Un panadero desea mezclar harina de centeno, a 10 euros el kilo, con harina de trigo, a 24 euros el kilo,\n",
    "con el fin de obtener 100 kilos de harina de mezcla que venderá a 18 euros el kilo.\n",
    "¿Cuántos kilos de harina de centeno y cuántos de harina de trigo debe mezclar?\n",
    "\n"
   ]
  },
  {
   "cell_type": "markdown",
   "metadata": {},
   "source": [
    "**<FONT SIZE=4>[28]</font>** Se conoce como **ventana normanda** a aquella en forma de rectángulo rematado por un semicírculo. \n",
    "Si el perímetro de una ventana normanda es $5.5$ metros, expresa el área de la ventana como función del ancho $x$ de la misma.\n",
    "\n"
   ]
  },
  {
   "cell_type": "markdown",
   "metadata": {},
   "source": [
    "**<FONT SIZE=4>[29]</font>** Responde a las siguientes cuestiones:\n",
    "\n",
    "  1. Halla un número racional y otro irracional situados entre $3^{500}$ y $3^{500}+1$.\n",
    "\n",
    "  2. Encuentra un número real $\\alpha$ tal que $\\alpha^{2}$ sea irracional y $\\alpha^{4}$ sea racional.\n",
    "\n",
    "  3. Encuentra dos números irracionales tales que su suma y su producto sean racionales.\n",
    "\n",
    "  4. Dada $f(x)=2^x-3,$ ¿cuál es  el dominio de $f^{-1}$?"
   ]
  }
 ],
 "metadata": {
  "kernelspec": {
   "display_name": "Python 3 (ipykernel)",
   "language": "python",
   "name": "python3"
  },
  "language_info": {
   "codemirror_mode": {
    "name": "ipython",
    "version": 3
   },
   "file_extension": ".py",
   "mimetype": "text/x-python",
   "name": "python",
   "nbconvert_exporter": "python",
   "pygments_lexer": "ipython3",
   "version": "3.12.3"
  },
  "vscode": {
   "interpreter": {
    "hash": "f2c0f1c90395c109e1b87b1f4d6d2ea9e1b09c8587e65b0565fcfbe20df05a54"
   }
  }
 },
 "nbformat": 4,
 "nbformat_minor": 4
}