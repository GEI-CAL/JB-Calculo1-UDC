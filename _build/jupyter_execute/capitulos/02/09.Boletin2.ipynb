{
 "cells": [
  {
   "cell_type": "markdown",
   "metadata": {},
   "source": [
    "# Boletín 2: Límites, continuidad, Lagrange y dicotomía"
   ]
  },
  {
   "cell_type": "markdown",
   "metadata": {},
   "source": [
    "**<FONT SIZE=4>[1]</font>** Calcula, si es posible,\n",
    "   \n",
    "1. $\\displaystyle{\\lim_{x\\rightarrow 0}{\\frac{|2x-1|-|2x+1|}{x}}}$,\n",
    "\n",
    "2. $\\displaystyle{\\lim_{x\\rightarrow 0}{\\frac{\\sqrt{x^2+4}-2}{x^2}}}$,\n",
    "\n",
    "3. $\\displaystyle{\\lim_{x\\rightarrow 0}{\\left (\\frac{1}{x}-\\frac{1}{|x|}\\right)}}$.\n",
    "\n"
   ]
  },
  {
   "cell_type": "markdown",
   "metadata": {},
   "source": [
    "**<FONT SIZE=4>[2]</font>** Calcula, si es posible, los siguientes límites:\n",
    "   \n",
    "$$\n",
    "\\begin{array}{lllll}\n",
    "%\\text{$(a)$ } \\displaystyle{\\lim_{x\\rightarrow -\\infty} e^x}   &\\qquad\n",
    "%\\text{$(b)$ } \\displaystyle{\\lim_{x\\rightarrow 0}       e^x}   &\\qquad\n",
    "%\\text{$(c)$ } \\displaystyle{\\lim_{x\\rightarrow +\\infty} e^x}   &\\qquad\n",
    "\\text{$1.$ } \\displaystyle{\\lim_{x\\rightarrow -\\infty} \\sqrt[3]{x}}   & \\qquad\n",
    "\\text{$2.$ } \\displaystyle{\\lim_{x\\rightarrow +\\infty} \\sqrt{x}}  &\\qquad\n",
    "\\text{$3.$ } \\displaystyle{\\lim_{x\\rightarrow 0^+}     \\sqrt{x}}   &\\qquad\n",
    "\\text{$4.$ } \\displaystyle{\\lim_{x\\rightarrow -\\infty} \\sqrt{x}}   \\\\\n",
    "\\\\\n",
    "\\text{$5.$ } \\displaystyle{\\lim_{x\\rightarrow +\\infty} \\dfrac{1}{\\sqrt{x}}}  & \\qquad\n",
    "\\text{$6.$ } \\displaystyle{\\lim_{x\\rightarrow 0^+}     \\dfrac{1}{\\sqrt{x}} }  &\\qquad\n",
    "%\\text{$7.$ } \\displaystyle{\\lim_{x\\rightarrow +\\infty} x^2}   &\\qquad\n",
    "\\text{$8.$ } \\displaystyle{\\lim_{x\\rightarrow -\\infty} x^2 }  &\\qquad\n",
    "\\text{$9.$ } \\displaystyle{\\lim_{x\\rightarrow +\\infty} \\left( x^3 - 5x^2 + 8 \\right)}\n",
    "\\end{array}\n",
    "$$\n",
    "\n"
   ]
  },
  {
   "cell_type": "markdown",
   "metadata": {},
   "source": [
    "**<FONT SIZE=4>[3]</font>** El valor, en euros, de un coche $x$ años después de su adquisición (nuevo) viene dado por la función\n",
    "   \n",
    "$$\n",
    "v(x)=2000+\\frac{60000}{4^{0.25 x}}.\n",
    "$$\n",
    "    \n",
    "Se llama *valor residual* del coche a su valor límite cuando el número de años aumenta indefinidamente.\n",
    "\n",
    "  1. ¿Cuál fue el precio de compra del vehículo nuevo?\n",
    "\n",
    "  2. ¿Cuál será su valor residual?\n",
    "\n",
    "  3. ¿Al cabo de cuántos años diferirá su valor en menos de 1000 euros del valor residual? \n",
    "    \n"
   ]
  },
  {
   "cell_type": "markdown",
   "metadata": {},
   "source": [
    "**<FONT SIZE=4>[4]</font>** Dibuja, con `Sympy` la gráfica de la curva $y=\\sqrt{x^2+1}-x$. \n",
    "   \n",
    "Comprueba, con lápiz y papel y comprobando los resultados en el ordenador, si esta gráfica tiene alguna asíntota y, en caso afirmativo, obtén sus ecuaciones.\n",
    "\n"
   ]
  },
  {
   "cell_type": "markdown",
   "metadata": {},
   "source": [
    "**<FONT SIZE=4>[5]</font>** Calcula las asíntotas de las siguientes funciones:\n",
    "\n",
    "1. $\\displaystyle{v_{1}(x)= \\frac{3x^2-2}{4x^2 +1}}$,\n",
    "\n",
    "2. $\\displaystyle{h(t)= \\frac{t^2+2}{t -2}}$,\n",
    "\n",
    "3. $\\displaystyle{v_{2}(x)= \\frac{3x^2-2}{4x^2 -1}}$,   \n",
    "\n",
    "4. $\\displaystyle{f(x)=x^\\frac{|x|}{x} + \\frac{1}{x}}$.\n",
    "\n"
   ]
  },
  {
   "cell_type": "markdown",
   "metadata": {},
   "source": [
    "**<FONT SIZE=4>[6]</font>** Considera la  función $f$, dada por $f(x) = \\ln(x)$.\n",
    "   \n",
    "1. ¿Cuál es su dominio? ¿Cuál es su imagen?\n",
    "\n",
    "2. ¿Cuánto valen $\\displaystyle{\\lim_{x\\rightarrow  +\\infty}\\ln(x)} \\,\\,$ y $\\displaystyle{\\lim_{x\\rightarrow 0^+}\\ln (x)}$?\n",
    "\n",
    "3. ¿Existe $\\displaystyle{\\lim_{x\\rightarrow -\\infty}\\ln(x)}$? ¿Por qué?\n",
    "\n",
    "4. ¿Posee $f$ alguna asíntota vertical? En caso afirmativo, ¿cuál es su ecuación?\n",
    "\n",
    "5. Dibuja la gráfica de $f$.\n",
    "\n",
    "6. Utilizando la relación entre la gráfica de una función y la de su inversa, esboza la gráfica de $g(x)=e^x$. \n",
    "De la observación de esta gráfica deduce la existencia de una asíntota horizontal.\n",
    "\n"
   ]
  },
  {
   "cell_type": "markdown",
   "metadata": {},
   "source": [
    "**<FONT SIZE=4>[7]</font>** Vamos a repasar la función arco-tangente ($\\arctan$):\n",
    "\n",
    "1. ¿Cuál es el dominio de la función $f(x)=\\arctan(x)$? ¿Y su imagen?\n",
    "\n",
    "2. ¿Es cierto que $\\dfrac{1}{\\tan(x)} = \\arctan(x)$? ¿Por qué?\n",
    "\n",
    "3. ¿Cuáles son los ángulos cuya tangente vale $1$?\n",
    "\n",
    "4. ¿Es correcto decir que $\\arctan (1)=\\dfrac{\\pi}{4}+k\\pi$, $\\,k \\in \\mathbb{Z}$? ¿Por qué?\n",
    "\n"
   ]
  },
  {
   "cell_type": "markdown",
   "metadata": {},
   "source": [
    "**<FONT SIZE=4>[8]</font>** Si la longitud de un animal $t$ días después de su nacimiento es \n",
    "\n",
    "$$\n",
    "\\ell(t)= \\frac{300}{1+9\\left(0.8\\right)^t}\n",
    "$$  \n",
    "¿cuánto midió al nacer? Obtén una cota superior de su tamaño máximo. "
   ]
  },
  {
   "cell_type": "markdown",
   "metadata": {},
   "source": [
    "**<FONT SIZE=4>[9]</font>** Elige la opción correcta: \n",
    "    \n",
    "Para aproximar el valor de la solución de la ecuación  $x^3+2=0$ con un error menor que $0.30$ usando el algoritmo de dicotomía en el intervalo $[-2,\\,2]$:\n",
    "\n",
    "1. debemos realizar cuatro iteraciones y las tres primeras son $x_1=0$, $x_2=-1$ y $x_3=-3/2$\n",
    "\n",
    "2. debemos realizar cuatro iteraciones y las tres primeras son $x_1=0$, $x_2=-1$ y  $x_3=-1/2$\n",
    "\n",
    "3. debemos realizar tres iteraciones y las dos primeras son $x_1=0$ y $x_2=-1$\n",
    "\n",
    "4. debemos realizar tres iteraciones y las dos primeras son $x_1=0$ y $x_2=1$."
   ]
  },
  {
   "cell_type": "markdown",
   "metadata": {},
   "source": [
    "**<FONT SIZE=4>[10]</font>** ¿Dónde es continua la función $f$ dada por $f(x)=\\displaystyle{\\frac{e^x+\\ln(2x)}{x^2-3}}?$"
   ]
  },
  {
   "cell_type": "markdown",
   "metadata": {},
   "source": [
    "**<FONT SIZE=4>[11]</font>** Elige la opción correcta:\n",
    "\n",
    "La función $f : \\mathbb{R} \\longrightarrow \\mathbb{R}$ dada por:\n",
    "\n",
    "$$\n",
    "f(x) =\n",
    "\\begin{cases}\n",
    "\\sqrt{{x}^{2}-1} \\,\\,\\,\\,  \\qquad\\,  \\text{  si  } x \\in (-\\infty,-1] \\\\\n",
    "            {x}^{2}+2x+1 \\qquad    \\text{si } x \\in (-1,10] \\\\\n",
    "            \\frac{121}{10}x   \\qquad\\, \\, \\, \\, \\qquad   \\text{     si   } x \\in (10,+\\infty)\n",
    "\\end{cases}\n",
    "$$\n",
    "\n",
    "1. No es continua en $x=-1$\n",
    "\n",
    "2. Es continua en $(-\\infty,\\infty)$\n",
    "\n",
    "3. No es continua en $x=10$\n",
    "\n",
    "4. No es continua en $x=0$"
   ]
  },
  {
   "cell_type": "markdown",
   "metadata": {},
   "source": [
    "**<FONT SIZE=4>[12]</font>** Estudia la continuidad en $x=0$ de la función $f : \\mathbb{R} \\longrightarrow \\mathbb{R}$ dada por:\n",
    "\n",
    "$$\n",
    "f(x) =\n",
    "\\begin{cases}\n",
    "x e^{-x} \\,  \\qquad\\,\\quad  \\text{si } x < 0 \\\\\n",
    "            1 \\qquad \\qquad \\,\\,\\,\\,\\,\\,   \\text{si } x = 0 \\\\\n",
    "            \\sqrt{x^2+1}   \\qquad   \\text{si } x > 0\n",
    "\\end{cases}\n",
    "$$"
   ]
  },
  {
   "cell_type": "markdown",
   "metadata": {},
   "source": [
    "**<FONT SIZE=4>[13]</font>** Si $a>1$ estudia la continuidad de la función $f : \\mathbb{R} \\longrightarrow \\mathbb{R}$ dada por:\n",
    "\n",
    "$$\n",
    "f(x) =\n",
    "\\begin{cases}\n",
    "{x}^{2} {\\cos^2\\left(\\frac{1}{x}\\right)}   \\qquad\\,\\quad  \\text{si } x < 0 \\\\\n",
    "            0 \\qquad \\qquad \\,\\,\\,\\,\\,\\,\\,\\,\\quad   \\text{     si } x = 0 \\\\\n",
    "        \\dfrac{x {a}^{x}-x} {\\sqrt{1+x}-1}  \\qquad   \\text{si } x > 0\n",
    "\\end{cases}\n",
    "$$"
   ]
  },
  {
   "cell_type": "markdown",
   "metadata": {},
   "source": [
    "**<FONT SIZE=4>[14]</font>** Demuestra que la ecuación $x + \\sin (x) = \\dfrac{1}{\\sqrt{x}+3}$ tiene al menos una raíz en $[0,\\pi]$."
   ]
  },
  {
   "cell_type": "markdown",
   "metadata": {},
   "source": [
    "**<FONT SIZE=4>[15]</font>** Justifica la existencia de una solución de la ecuación $e^x+4x=0$ en el intervalo $[-1, 0]$. \n",
    "    Determina el número de iteraciones necesarias para aproximar la solución mediante el método de dicotomía con un\n",
    "    error inferior a  una centésima y calcula las tres primeras iteraciones."
   ]
  },
  {
   "cell_type": "markdown",
   "metadata": {},
   "source": [
    "**<FONT SIZE=4>[16]</font>** Sea la función $f$ dada por:\n",
    "\n",
    "$$\n",
    "f(x) = \\begin{cases}\n",
    "\\displaystyle{\\frac{x^2}{1+e^{1/x}} - 1}    & \\quad  \\text{si } x \\neq 0 \\\\\n",
    "\\\\\n",
    "- 1   & \\quad  \\text{si } x =0. \\end{cases}\n",
    "$$\n",
    "\n",
    "1. Estudia la continuidad de $f$ en $\\mathbb{R}.$\n",
    "\n",
    "2. Justifica la existencia de una raíz de $f$ en el intervalo $[0,\\, 2].$\n",
    "\n",
    "3. Calcula los dos primeros iterantes del algoritmo de dicotomía, aplicado a $f$ en el intervalo $[0,\\,2],$ para aproximar la raíz a la que se refiere el apartado anterior."
   ]
  },
  {
   "cell_type": "markdown",
   "metadata": {},
   "source": [
    "**<FONT SIZE=4>[17]</font>** Mediciones puntuales han determinado que una función $f$ desconocida pasa por $(-2, -16)$, $(0, 0)$, $(1, -1)$ y $(3, 9)$. Calcula, mediante diferencias divididas, una aproximación polinómica de $f$. Utiliza este polinomio para aproximar $f(2)$."
   ]
  },
  {
   "cell_type": "markdown",
   "metadata": {},
   "source": [
    "**<FONT SIZE=4>[18]</font>** Calcula el polinomio de interpolación de Lagrange de orden tres relativo a $f(x) = 2^{x+1}-5$ en los puntos $x_0 = 1$, $x_1 = 2$, $x_2 = 3$ y $x_3 = 4$.\n",
    "    Utilizando los cálculos previos, calcula una aproximación del número $r = 4 \\sqrt{2}-5$ y una aproximación de la raíz de la ecuación $\\log_2 (y+5) = 3.5$."
   ]
  },
  {
   "cell_type": "markdown",
   "metadata": {},
   "source": [
    "**<FONT SIZE=4>[19]</font>** Utiliza la fórmula de Newton para obtener el polinomio de interpolación de la función $f(x)=\\sin(x)$ relativo a los puntos $\\displaystyle{ 0, \\frac{\\pi}{2}, \\pi}$ y $\\displaystyle{\\frac{3\\pi}{2} }$. Utilízalo para aproximar el seno de $\\displaystyle{\\frac{\\pi}{4}}$."
   ]
  },
  {
   "cell_type": "markdown",
   "metadata": {},
   "source": [
    "**<FONT SIZE=4>[20]</font>** Considera la siguiente tabla de valores, correspondiente a mediciones de una función $f$:\n",
    "\n",
    "| $x_{i}$ | -1 | 0 | 1 | 3 | 4 |\n",
    "| -- | -- | -- | -- | -- | -- |\n",
    "| $f(x_{i})$ | 6 | 3| 6 | 38 | 77|\n",
    "\n",
    " 1. Calcula el polinomio $p$ de interpolación de Lagrange de orden $2$ relativo a $f$ en los nodos $\\{ 1,3,4 \\}$.\n",
    "\n",
    " 2. Calcula el polinomio $q$ de interpolación de Lagrange de orden $2$ relativo a $f$ en los nodos $\\{ -1,0,1 \\}$.\n",
    "\n",
    " 3. Aproxima $f(0.25)$  y $f(2)$."
   ]
  },
  {
   "cell_type": "markdown",
   "metadata": {},
   "source": [
    "**<FONT SIZE=4>[21]</font>** Elige la opción correcta:\n",
    "    \n",
    "Si usamos el polinomio de Lagrange que interpola a los nodos $(-2,-8)$, $(-1, 0)$ y $(1, 4)$, para aproximar el valor en $x=0$ obtenemos:\n",
    "\n",
    " 1. -4\n",
    "\n",
    " 2. 0\n",
    "\n",
    " 3. 4\n",
    "\n",
    " 4. con el polinomio de Lagrange que interpola esos nodos no se puede aproximar el valor en $x=2$."
   ]
  },
  {
   "cell_type": "markdown",
   "metadata": {},
   "source": [
    "**<FONT SIZE=4>[22]</font>** Elige la opción correcta:\n",
    "\n",
    "El coeficiente de grado $1$ del polinomio de Lagrange que interpola los datos de la siguiente tabla\n",
    "\n",
    "| $x_{i}$ | -2 | -1 | 1 | 0 |\n",
    "| -- | -- | -- | -- | -- |\n",
    "| $y_{i}$ | 4 | 4 | 10 | 6 |\n",
    "\n",
    " 1. es 0\n",
    "\n",
    " 2. es 1\n",
    "\n",
    " 3. es 3\n",
    "\n",
    " 4. no existe ese polinomio.   "
   ]
  },
  {
   "cell_type": "markdown",
   "metadata": {},
   "source": [
    "**<FONT SIZE=4>[23]</font>** **Razona** la veracidad o falsedad de las siguientes afirmaciones:\n",
    "    \n",
    " 1.  Sea $f:[0,2]\\rightarrow \\mathbb{R}$ continua y tal que $f(1)=0$. Entonces, por el teorema de Bolzano debe ser $f(0)f(2)<0$.\n",
    "\n",
    " 2. Existe un punto $x \\in (0,1)$ tal que $\\displaystyle{e^{x}=\\frac{3}{2}}$.\n",
    "\n",
    " 3. La función $g$ dada por $\\,g(x)=\\dfrac{16}{{a}^2+2abx+{b}^2{x}^2}\\,$, donde $a$ y $b$ son dos números reales no nulos, es continua siempre que $x$ difiera de $\\,\\frac{-a}{b}$.\n",
    "\n",
    " 4. La función $h$ dada por $\\displaystyle{ h(x)=\\frac{1}{1+e^{-1/x}} }$ no tiene límite en $0$.\n",
    "\n",
    " 5. La gráfica de la función $\\dfrac{{x}^{3}}{{(x+1)}^2}$ se corta con su asíntota oblícua en un punto de abscisa comprendida entre $-1$ y $0$.\n",
    "\n",
    " 6. Todo polinomio $p$ verifica $p(x+y)=p(x) + p(y)$."
   ]
  }
 ],
 "metadata": {
  "kernelspec": {
   "display_name": "Python 3 (ipykernel)",
   "language": "python",
   "name": "python3"
  },
  "language_info": {
   "codemirror_mode": {
    "name": "ipython",
    "version": 3
   },
   "file_extension": ".py",
   "mimetype": "text/x-python",
   "name": "python",
   "nbconvert_exporter": "python",
   "pygments_lexer": "ipython3",
   "version": "3.12.3"
  },
  "vscode": {
   "interpreter": {
    "hash": "f2c0f1c90395c109e1b87b1f4d6d2ea9e1b09c8587e65b0565fcfbe20df05a54"
   }
  }
 },
 "nbformat": 4,
 "nbformat_minor": 4
}