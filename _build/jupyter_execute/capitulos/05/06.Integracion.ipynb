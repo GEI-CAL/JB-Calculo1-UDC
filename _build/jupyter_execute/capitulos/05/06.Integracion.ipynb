{
 "cells": [
  {
   "cell_type": "markdown",
   "metadata": {},
   "source": [
    "(sec_PythonIntegracion)=\n",
    "# Integración en `Python`\n",
    "\n",
    "Esta sección pretende ser un compendio (esperemos que claro y ordenado) de todo el `Python` que hemos ido usando en el Capítulo 4.\n",
    "\n",
    "Objetivos:\n",
    "\n",
    "* Cálculo de primitivas con `Sympy`.\n",
    "* Cálculo de integrales definidas con `Sympy`.\n",
    "* Implementación en `Numpy` de los métodos de integración numérica.\n",
    "* Cálculo en `Sympy` de integrales impropias.\n",
    "* Uso de `Sympy` para resolver EDOs."
   ]
  },
  {
   "cell_type": "markdown",
   "metadata": {},
   "source": [
    "## Cálculo de primitivas con `SymPy`\n",
    "Para calcular la integral de una función con `SymPy`, se emplea la función *integrate*. \n",
    "Por ejemplo, para calcular una primitiva de $\\sin(x)$, escribiremos "
   ]
  },
  {
   "cell_type": "code",
   "execution_count": 86,
   "metadata": {},
   "outputs": [
    {
     "name": "stdout",
     "output_type": "stream",
     "text": [
      "Una primitiva de  sin(x)  es =  -cos(x)\n"
     ]
    }
   ],
   "source": [
    "import sympy as sp\n",
    "\n",
    "x = sp.symbols('x')\n",
    "f_exp = sp.sin(x)\n",
    "I = sp.integrate(f_exp,x)\n",
    "\n",
    "print('Una primitiva de ',f_exp, ' es = ',I)"
   ]
  },
  {
   "cell_type": "markdown",
   "metadata": {},
   "source": [
    "`SymPy` no siempre es capaz de calcular una primitiva. En caso de no poder hacerlo, devuelve como salida la integral de partida:"
   ]
  },
  {
   "cell_type": "code",
   "execution_count": 87,
   "metadata": {},
   "outputs": [
    {
     "name": "stdout",
     "output_type": "stream",
     "text": [
      "Integral(sin(x*cos(x)), x)\n"
     ]
    }
   ],
   "source": [
    "I = sp.integrate(sp.sin(x*sp.cos(x)),x)\n",
    "print(I)"
   ]
  },
  {
   "cell_type": "markdown",
   "metadata": {},
   "source": [
    "## Cálculo de integrales definidas con `Sympy`\n",
    "\n",
    "Para calcular una integral definida, simplemente tendremos que añadir los límites de integración al comando `sp.integrate`.\n",
    "\n",
    "Por ejemplo, para integrar $\\displaystyle\\int_0^\\pi\\sin(x)\\,dx$, escribiremos"
   ]
  },
  {
   "cell_type": "code",
   "execution_count": 88,
   "metadata": {},
   "outputs": [
    {
     "name": "stdout",
     "output_type": "stream",
     "text": [
      "La integral de  sin(x)  entre 0 y pi es =  2\n"
     ]
    }
   ],
   "source": [
    "import sympy as sp\n",
    "\n",
    "x = sp.symbols('x')\n",
    "f_exp = sp.sin(x)\n",
    "Idef = sp.integrate(f_exp,(x,0,sp.pi))  # Integral de f_exp con x entre 0 y pi\n",
    "\n",
    "print('La integral de ',f_exp, ' entre 0 y pi es = ',Idef)"
   ]
  },
  {
   "cell_type": "markdown",
   "metadata": {},
   "source": [
    "## Integración numérica con `Numpy`\n",
    "\n",
    "### Fórmulas simples\n",
    "\n",
    "A continuación mostramos las *functions* que nos permiten la programación de las fórmulas simples que acabamos de ver en `Numpy` y un ejemplo de su aplicación. \n",
    "\n",
    "Probaremos sobre \n",
    "\n",
    "$$\n",
    "I=\\int_{0}^{3}\\left(x^4+1\\right)\\,dx\\,,\n",
    "$$\n",
    "ya que, en este caso sencillo, podemos conocer el valor exacto de la integral:\n",
    "\n",
    "$$\n",
    "I=\\int_{0}^{3}\\left(x^4+1\\right)\\,dx = \\left[\\frac{x^5}{5}+x\\right]_{x=0}^{3} = \\frac{3^5}{5}+3 = 51.6\\, .\n",
    "$$"
   ]
  },
  {
   "cell_type": "code",
   "execution_count": 89,
   "metadata": {},
   "outputs": [
    {
     "name": "stdout",
     "output_type": "stream",
     "text": [
      "Valor aproximado de I mediante la fórmula del punto medio =  18.1875\n",
      "Valor aproximado de I mediante la fórmula del trapecio =  124.5\n",
      "Valor aproximado de I mediante la fórmula de Simpson =  53.625\n"
     ]
    }
   ],
   "source": [
    "import sympy as sp\n",
    "import numpy as np\n",
    "\n",
    "def pto_medio(a, b, fpm):\n",
    "    aprox_pm = (b-a) * fpm\n",
    "    return aprox_pm\n",
    "\n",
    "def trapecio(a, b, fa, fb):\n",
    "    aprox_tr = (b-a) * (fa + fb)/2\n",
    "    return aprox_tr\n",
    "\n",
    "def simpson(a, b, fa, fpm, fb):\n",
    "    aprox_simp = (b-a) * (fa + 4*fpm + fb)/6\n",
    "    return aprox_simp\n",
    "\n",
    "x = sp.Symbol('x', real = True)\n",
    "\n",
    "f_exp = x**4 + 1\n",
    "f = sp.lambdify(x,f_exp)\n",
    "\n",
    "a = 0\n",
    "b = 3\n",
    "pm = (a+b)/2\n",
    "\n",
    "fa = f(a)\n",
    "fpm = f(pm)\n",
    "fb = f(b)\n",
    "\n",
    "print('Valor aproximado de I mediante la fórmula del punto medio = ', pto_medio(a,b,fpm) ) \n",
    "print('Valor aproximado de I mediante la fórmula del trapecio = ', trapecio(a,b,fa,fb) ) \n",
    "print('Valor aproximado de I mediante la fórmula de Simpson = ', simpson(a,b,fa,fpm,fb) ) "
   ]
  },
  {
   "cell_type": "markdown",
   "metadata": {},
   "source": [
    "### Fórmulas compuestas\n",
    "\n",
    "Como puedes ver en el apartado anterior, las fórmulas simples pueden dar resultdos bastante... pésimos.\n",
    "\n",
    "Vamos a implementar ahora de manera eficiente las fórmulas compuestas utilizando la función de `np.sum`. "
   ]
  },
  {
   "cell_type": "code",
   "execution_count": 90,
   "metadata": {},
   "outputs": [
    {
     "name": "stdout",
     "output_type": "stream",
     "text": [
      "aprox_trap:  51.608099919\n",
      "aprox_medio:  51.583801133999984\n",
      "aprox_simpson:  51.60000032399999\n",
      "Exacta:  51.6\n"
     ]
    }
   ],
   "source": [
    "import sympy as sp\n",
    "import numpy as np\n",
    "\n",
    "x = sp.Symbol('x', real = True)\n",
    "f_exp = x**4+1\n",
    "f = sp.lambdify(x,f_exp)\n",
    "\n",
    "a = 0; b = 3\n",
    "n = 100\n",
    "\n",
    "x1 = np.linspace(a,b,n+1) # aquí guardamos los x_{i}. \n",
    "                          # Recuerda que, en Python, se guarda x1[0], x1[1], ..., x1[(n+1)-1] = x1[n]\n",
    "y1 = f(x1)\n",
    "\n",
    "h = (b-a)/n # el tamaño de cada subintervalo\n",
    "\n",
    "aprox_trap = h/2 * (y1[0]+2*np.sum(y1[1:n])+y1[n])\n",
    "aprox_medio = 2*h * np.sum(y1[1:n:2])\n",
    "aprox_simpson = 2*h/6 * (y1[0] + 4*np.sum(y1[1:n:2])+2*np.sum(y1[2:n-1:2])+y1[n])\n",
    "\n",
    "print('aprox_trap: ',aprox_trap) \n",
    "print('aprox_medio: ',aprox_medio) \n",
    "print('aprox_simpson: ',aprox_simpson) \n",
    "\n",
    "print('Exacta: ',b**5/5+b)"
   ]
  },
  {
   "cell_type": "markdown",
   "metadata": {},
   "source": [
    "## Cálculo de integrales impropias con `Sympy`\n",
    "\n",
    "Es posible calcular con `Sympy` integrales impropias de primera especie, es decir, integrales con límites de integración $-\\infty$ y/o $+\\infty$.\n",
    "\n",
    "Esto se puede hacer bien directamente, bien aplicando la definición de integral impropia (es decir, combinando una integral de Riemann con un límite). Veámoslo:"
   ]
  },
  {
   "cell_type": "code",
   "execution_count": 91,
   "metadata": {},
   "outputs": [
    {
     "name": "stdout",
     "output_type": "stream",
     "text": [
      "Integral de  exp(x)  entre -oo y 0 es =  1\n",
      "Integral de  exp(x)  entre -oo y 0 es =  1\n"
     ]
    }
   ],
   "source": [
    "import sympy as sp\n",
    "x = sp.symbols('x', real = True)\n",
    "M = sp.Symbol('M', real = True)\n",
    "\n",
    "f_exp = sp.exp(x)\n",
    "\n",
    "# Cálculo directo\n",
    "I_directo = sp.integrate(f_exp,(x,-sp.oo,0))\n",
    "print('Integral de ',f_exp,' entre -oo y 0 es = ',I_directo)\n",
    "\n",
    "# Cálculo con límites\n",
    "I_limites = sp.limit( sp.integrate(f_exp,(x,-M,0)), M, +sp.oo )\n",
    "print('Integral de ',f_exp,' entre -oo y 0 es = ',I_limites)"
   ]
  },
  {
   "cell_type": "markdown",
   "metadata": {},
   "source": [
    "Del mismo modo podemos calcular una integral impropia de segunda especie. Por ejemplo, \n",
    "\n",
    "$$\n",
    "\\int_{0}^2\\dfrac{1}{\\sqrt{x}}\\,dx\\, .\n",
    "$$"
   ]
  },
  {
   "cell_type": "code",
   "execution_count": 92,
   "metadata": {},
   "outputs": [
    {
     "name": "stdout",
     "output_type": "stream",
     "text": [
      "La integral vale =  2*sqrt(2)\n",
      "La integral vale =  2*sqrt(2)\n"
     ]
    }
   ],
   "source": [
    "import sympy as sp\n",
    "x = sp.symbols('x', real = True)\n",
    "c = sp.Symbol('c', real = True)\n",
    "\n",
    "f_exp = 1/sp.sqrt(x)\n",
    "\n",
    "# Cálculo directo\n",
    "I_directo = sp.integrate(f_exp,(x,0,2))\n",
    "print('La integral vale = ', I_directo)\n",
    "\n",
    "# Cálculo con límites\n",
    "I_limites = sp.limit( sp.integrate(f_exp,(x,c,2)), c, 0, dir='+')\n",
    "print('La integral vale = ', I_limites)"
   ]
  },
  {
   "cell_type": "markdown",
   "metadata": {},
   "source": [
    "Por supuesto, en ocasiones nos encontraremos con integrales no convergentes:"
   ]
  },
  {
   "cell_type": "code",
   "execution_count": 93,
   "metadata": {},
   "outputs": [
    {
     "name": "stdout",
     "output_type": "stream",
     "text": [
      "La integral vale =  oo\n"
     ]
    }
   ],
   "source": [
    "import sympy as sp\n",
    "x = sp.symbols('x', real = True)\n",
    "c = sp.Symbol('c', real = True)\n",
    "\n",
    "f_exp = 1/x\n",
    "\n",
    "# Cálculo con límites\n",
    "I_limites = sp.limit( sp.integrate(f_exp,(x,c,2)), c, 0, dir='+')\n",
    "print('La integral vale = ', I_limites)"
   ]
  },
  {
   "cell_type": "markdown",
   "metadata": {},
   "source": [
    "## Uso de `Sympy` para resolver EDOs\n",
    "\n",
    "A continuación mostramos cómo se puede utilizar `Sympy` en la resolución de EDOs. \n",
    "\n",
    "Realmente, es muy sencillo. \n",
    "\n",
    "1. Las variables independientes se definen como símbolos (`sp.Symbol`), mientras que las variables dependientes se definen como funciones (`sp.Function`).  \n",
    "2. Definimos la EDO con el comando `sp.Eq`, destacando la dependencia de la variable dependiente de la independiente. En el siguiente ejemplo, puedes ver cómo en la línea 7 escribimos `v(x)' cada vez que aparece la variable dependiente $v$.\n",
    "3. Las derivadas se escriben, dentro de la definición `sp.Eq` indicando la variable dependiente y la variable dependiente respecto a la que se derivan. En el ejemplo que aparece a continuación, escribimos $v'$ como `v(x).diff(x)`.\n",
    "4. Una vez definida la EDO, la resolvemos con el comando `sp.dsolve`.\n",
    "5. Podemos usar `sp.dsolve` sin más atributos para encontrar la solución general, o podemos incluir una condición inicial, que debemos definir como `ics`, como se puede ver en la penúltima línea del siguiente código.\n",
    "\n",
    "Como ejemplo, vamos a calcular la velocidad de un cuerpo con masa $72$ kilogramos, si suponemos que su velocidad inicial es nula y su coeficiente de resistencia al aire es $k=0.2$. \n",
    "\n",
    "Es decir, en función de lo que vimos en la sección anterior, vamos a resolver el problema de valor inicial\n",
    "\n",
    "$$\n",
    "    \\left\\{\\begin{array}{rcl}\n",
    "    72 v'&=& 72*9.81 - 0.2 v\\,,\\\\\n",
    "    v(0) &=& 0\\,,\n",
    "    \\end{array}\\right.\n",
    "$$"
   ]
  },
  {
   "cell_type": "code",
   "execution_count": 94,
   "metadata": {},
   "outputs": [
    {
     "data": {
      "text/latex": [
       "$\\displaystyle v{\\left(x \\right)} = C_{1} e^{- 0.00277777777777778 x} + 3531.6$"
      ],
      "text/plain": [
       "Eq(v(x), C1*exp(-0.00277777777777778*x) + 3531.6)"
      ]
     },
     "metadata": {},
     "output_type": "display_data"
    },
    {
     "data": {
      "text/latex": [
       "$\\displaystyle v{\\left(x \\right)} = 3531.6 - 3531.6 e^{- 0.00277777777777778 x}$"
      ],
      "text/plain": [
       "Eq(v(x), 3531.6 - 3531.6*exp(-0.00277777777777778*x))"
      ]
     },
     "metadata": {},
     "output_type": "display_data"
    }
   ],
   "source": [
    "import sympy as sp\n",
    "\n",
    "# Variable independiente\n",
    "x = sp.Symbol ('x')\n",
    "# Variable dependiente (definida como Function)\n",
    "v = sp.Function ('v')\n",
    "\n",
    "# Escribimos la EDO \n",
    "eq = sp.Eq (72*v(x).diff(x), 72*9.81 - 0.2*v(x))\n",
    "\n",
    "# Calculamos su solución general (este paso no sería necesario, pero queda como ejemplo)\n",
    "s_general = sp.dsolve (eq)   \n",
    "display (s_general)\n",
    "\n",
    "# Calculamos la solución particular que nos preguntan\n",
    "s_particular = sp.dsolve (eq, ics={v(0): 0.0}) \n",
    "display (s_particular)"
   ]
  }
 ],
 "metadata": {
  "kernelspec": {
   "display_name": "Python 3 (ipykernel)",
   "language": "python",
   "name": "python3"
  },
  "language_info": {
   "codemirror_mode": {
    "name": "ipython",
    "version": 3
   },
   "file_extension": ".py",
   "mimetype": "text/x-python",
   "name": "python",
   "nbconvert_exporter": "python",
   "pygments_lexer": "ipython3",
   "version": "3.11.5"
  },
  "vscode": {
   "interpreter": {
    "hash": "f2c0f1c90395c109e1b87b1f4d6d2ea9e1b09c8587e65b0565fcfbe20df05a54"
   }
  }
 },
 "nbformat": 4,
 "nbformat_minor": 2
}