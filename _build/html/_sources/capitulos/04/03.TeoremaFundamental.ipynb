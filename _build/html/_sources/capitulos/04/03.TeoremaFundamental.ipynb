{
 "cells": [
  {
   "cell_type": "markdown",
   "metadata": {},
   "source": [
    "# Teorema Fundamental del Cálculo\n",
    "\n",
    "Calcular el valor de una integral definida empleando geometría o límites de las sumas de Riemann para particiones infinitamente refinadas, es, en general, una tarea complicada. En esta sección presentamos el teorema fundamental del cálculo, que nos da un medio para calcular muchas integrales. De hecho, reducirá el problema de integración al cálculo de primitivas, es decir, al problema inverso de la derivación.\n",
    "\n",
    "\n",
    "**Teorema** Sea $f \\in {\\cal R}[a,b]$.  Para $a \\leq x \\leq b$, sea: $$F(x) = \\int_a ^x f(t) \\,dt .$$\n",
    "Entonces, $F \\in {\\cal C}[a,b]$.  Además, si $f$ es continua en $[a,b]$, entonces $F$ es derivable en $[a,b]$\n",
    "y $F^{\\,\\prime} (x) = f(x)$, $\\forall x \\in [a,b]$.\n",
    "\n",
    "También puede enunciarse de la siguiente manera:\n",
    "\n",
    "Si $f : I \\longrightarrow \\mathbb R$ es continua en $I$, entonces tiene primitivas en $I$; \n",
    "una de ellas es la integral definida $F$ dada por:\n",
    "$$F(x) = \\int_a ^x f(t) \\,dt,$$\n",
    "donde $a \\in I$ *es cualquiera*."
   ]
  },
  {
   "cell_type": "markdown",
   "metadata": {},
   "source": [
    "## Consecuencia\n",
    "\n",
    "**Teorema**\n",
    "Sea la función $F$ dada por la integral definida:\n",
    "$$F(x) = \\int_{a(x)}^{b(x)} f(t) \\, dt.$$\n",
    "Entonces, la derivada de $F$ con respecto a $x$ viene dada por: \n",
    "$$F^{\\,\\prime}(x) = f(b(x)) \\, b^{\\prime}(x) - f(a(x)) \\, a^{\\prime}(x). $$"
   ]
  },
  {
   "cell_type": "markdown",
   "metadata": {},
   "source": [
    "## Ejercicios de aplicación del teorema fundamental del cálculo.\n",
    "\n",
    "* https://existelimite.blogspot.com/2017/01/examen-de-enero-de-2017-aplicacion-del.html\n",
    "* https://existelimite.blogspot.com/2014/02/calculo-de-extremos-de-f-mediante-el.html"
   ]
  },
  {
   "cell_type": "markdown",
   "metadata": {},
   "source": [
    "## Regla de Barrow\n",
    "Si $f \\in {\\cal R}[a,b]$ y existe una primitiva $F$ de $f$ en $[a,b]$, entonces: $$\\int_a ^b f(x) \\,dx = \\left. \\begin{array}{c} \\, \\\\ \\, \\end{array} F(x) \\right|_a^b = F(b) - F(a).$$\n",
    "\n",
    "Ejemplo:\n",
    "Calcula el área bajo la curva $y=\\cos x$ en $\\left[-\\frac{\\pi}{2}, \\frac{\\pi}{2}\\right]$.\n",
    "\n",
    "Solución: $$A = \\int_{-\\frac{\\pi}{2}}^{\\frac{\\pi}{2}} \\cos x \\, dx = \\sin x \\lvert_{-\\frac{\\pi}{2}}^{\\frac{\\pi}{2}} = \\sin\\left(\\frac{\\pi}{2}\\right) - \\sin\\left(-\\frac{\\pi}{2}\\right) = 1 - (-1) = 2.$$\n",
    "Así, el área de la región son dos unidades cuadradas.\n",
    "\n",
    "\n",
    "\n",
    "\n",
    "### Integración por partes\n",
    "\n",
    "**Teorema**\n",
    "Si $F$ y $G$ son dos funciones derivables en $[a,b]$, y se tiene: \n",
    "$$\\begin{cases} F^{\\,\\prime} = f \\\\ G^{\\,\\prime} = g \\end{cases} \\hspace{20mm} \\text{en } [a,b],$$ siendo $f$ y $g$ integrables en $[a,b]$, entonces $$\\int_a ^b F(x) \\,g(x) \\,dx = F(b) \\,G(b) - F(a) \\,G(a) - \\int_a ^b f(x) \\,G(x) \\,dx.$$"
   ]
  }
 ],
 "metadata": {
  "kernelspec": {
   "display_name": "Python 3",
   "language": "python",
   "name": "python3"
  },
  "language_info": {
   "codemirror_mode": {
    "name": "ipython",
    "version": 3
   },
   "file_extension": ".py",
   "mimetype": "text/x-python",
   "name": "python",
   "nbconvert_exporter": "python",
   "pygments_lexer": "ipython3",
   "version": "3.8.10"
  },
  "vscode": {
   "interpreter": {
    "hash": "4253bf17849ddc6b6e8c6b6b1c64951bcfcb143729dea15b0d22aeda669b2aa2"
   }
  }
 },
 "nbformat": 4,
 "nbformat_minor": 2
}
